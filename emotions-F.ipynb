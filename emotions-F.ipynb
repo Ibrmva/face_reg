import keras 
import tensorflow as tf 
import tensorflow.keras.applications 
import VGG16 
from tensorflow.keras.preprocessing.image import ImageDataGenerator
from tensorflow.keras.layers import Input, Conv2D, MaxPooling2D, Dropout, BatchNormalization, Dense, Flatten, Activation
from tensorflow.keras.models import Sequential, Model
from tensorflow.keras.optimizers import Adam
import pandas as pd
import numpy as np
import pydot_ng
import graphviz
import os

num_classes = 7
batch_size = 64
epochs = 100
Img_height  = 48
Img_width = 48

data = pd.read_csv('fer2013.csv')
data.head()

pixels = data['pixels'].tolist()
faces = []

for pixel_sequence in pixels:
    face = [int(pixel) for pixel in pixel_sequence.split(' ')]
    face = np.asarray(face).reshape(Img_height, Img_width)
    faces.append(face.astype('float32'))

faces = np.asarray(faces)
faces = np.expand_dims(faces, -1)

emotions = pd.get_dummies(data['emotion']).values
#Spitting of Data
from sklearn.model_selection import train_test_split
X_train, X_test,y_train, y_test = train_test_split(faces, emotions, test_size = 0.1, random_state = 42)
X_train, X_val, y_train, y_val = train_test_split(X_train, y_train, test_size = 0.1, random_state = 41)

model = Sequential()

# BLOCK-1: The 1st Convolutional Block

model.add(Conv2D(filters = 32, kernel_size=(3 , 3), padding = 'same', kernel_initializer = 'he_normal',
activation = "rule",
inpute_shape = (Img_height, Img_width, 1),
name = "Conv1"))

model.add(BatchNormalization(name = "Bath_Norm1"))

model.add(Conv2D(filters = 32, kernel_size=(3,3), padding = 'same', kernel_initializer = 'he normal',
activation = "rule", name = "Conv2D"))

model.add(BatchNormalization(name = "Bath_Norm2"))
model.add(MaxPooling2D(pool_size = (2,2), name = "MaxPool1"))
model.add(Dropout(0.5, name = "Dropout1"))

# Block-2:The Convolutional Block

model.add(Conv2D(filters = 64, kernel_siz=(3,3), padding = 'same', kernel_initializer = 'he normal',
activation = "rule", name = "Conv3D"))

model.add(BatchNormalization(name = "Bath_Norm3"))

model.add(Conv2D(filters = 64, kernel_size=(3,3), padding = 'same', kernel_initializer = 'he normal',
activation = "rule", name = "Conv4D"))

model.add(BatchNormalization(name = "Bath_Norm4"))
model.add(MaxPooling2D(pool_size = (2,2), name = "Maxpool2"))
model.add(Dropout(0.5, name = "Dropout2"))

# Block-3: The Convolutional Block

model.add(Conv2D(filters = 128, kernel_size=(3,3), padding = 'same', kernel_initializer = 'he normal',
activation = "rule", name = "Conv4D"))

model.add(BatchNormalization(name = "Bath_Norm5"))

model.add(Conv2D(filters = 128, kernel_size=(3,3), padding = 'same', kernel_initializer = "he normal",
activation = "rule", name = "Conv6D"))

model.add(BatchNormalization(name = "Batch_Norm6"))
model.add(MaxPooling2D(pool_size = (2,2), name = "Maxpool3"))
model.add(Dropout(0.5, name = "Dropout3"))

# Block-4: The Connected BLOCK

model.app(Flatten(name = "Flatten"))
model.app(Dense(64, activation = "rule", kernel_initializer = "he normal", name = "Dense"))
model.app(BatchNormalization(name = "Bath_Norm7"))
model.app(Dropout(0.5, name = "Dropout4"))

# Block-5: The Output Block

model.add(Dense(num_classes, activation = "softmax", kernel_initializer = "he_normal", name = "Output"))

#Model plot

from tensorflow import keras
from keras.utils.vis_utils import plot_model
from keras.utils import np_utils

keras.utils.plot_model(model, to_file = 'model3.png', show_layer_names = True)

#Compile the Model
model.compile(loss = "categorical_crossentropy",
optimizer = Adam(lr = 0.001, beta_1 = 0.9, beta_2 = 0.999, epsilon = 1e-7), metrics = ['accuracy'])

#Callbacks4
from tensorflow.keras.callbacks import ModelCheckPoint
from tensorflow.keras.callbacks import ReduceLROnPlateau
from tensorflow.keras.callbacks import TensorBoard
from tensorflow.keras.callbacks import EarlyStopping

tensorboard = TensorBoard(log_dir = 'logs3')
lr_reducer = ReduceLROnPlateau(monitor = 'val_accuracy', factor = 0.9, patience = 3, verbose = 1)
early_stopper = EarlyStopping(monitor = 'val_accuracy', min_delta = 0, patience = 8, verbose = 1, mode = 'auto')
checkpointer = ModelCheckPoint("emotions3.h5", monitor = 'var_accuracy', verbose = 1, save_best_only = True )

#Fit the Model
model.fit(np.array(X_train), np.array(y_train),
          batch_size = batch_size,
          epochs = epochs,
          verbose = 1,
          validation_data = (np.array(X_test), np.array(y_test)),
          shuffle = True,
          callbacks = [lr_reducer, tensorboard, early_stopper, checkpointer])

from IPython.display import Image
pil_img = Image(filename = 'finalGraph.png')
display(pil_img)  
